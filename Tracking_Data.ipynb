{
 "cells": [
  {
   "cell_type": "code",
   "execution_count": 1,
   "metadata": {},
   "outputs": [],
   "source": [
    "import pandas as pd\n",
    "import numpy as np"
   ]
  },
  {
   "cell_type": "code",
   "execution_count": 2,
   "metadata": {},
   "outputs": [],
   "source": [
    "tracking_test = pd.read_json(\"Player_Tracking/CLEBOS/2017051902_nba-bos_TRACKING.jsonl.gz\", lines=True,\n",
    "                             compression='gzip', encoding='latin1')"
   ]
  },
  {
   "cell_type": "code",
   "execution_count": 3,
   "metadata": {},
   "outputs": [],
   "source": [
    "events_test = pd.read_json(\"Player_Tracking/CLEBOS/2017051902_nba-bos_EVENTS.jsonl\", lines=True)"
   ]
  },
  {
   "cell_type": "code",
   "execution_count": 4,
   "metadata": {},
   "outputs": [
    {
     "data": {
      "text/plain": [
       "array(['TOUCH', 'DRIBBLE', 'PASS', 'SHOT', 'REB', 'FOUL', 'TO', 'FT',\n",
       "       'VIO', 'TMO'], dtype=object)"
      ]
     },
     "execution_count": 4,
     "metadata": {},
     "output_type": "execute_result"
    }
   ],
   "source": [
    "events_test.eventType.unique()"
   ]
  },
  {
   "cell_type": "code",
   "execution_count": 5,
   "metadata": {},
   "outputs": [],
   "source": [
    "temp = tracking_test.merge(events_test[['eventType','playerId','wallClock','gameClock']], how='left', on=['wallClock','gameClock'])"
   ]
  },
  {
   "cell_type": "code",
   "execution_count": 6,
   "metadata": {},
   "outputs": [],
   "source": [
    "temp.dropna(subset=['eventType','playerId'], how='all', inplace=True)"
   ]
  },
  {
   "cell_type": "code",
   "execution_count": 7,
   "metadata": {},
   "outputs": [
    {
     "name": "stdout",
     "output_type": "stream",
     "text": [
      "<class 'pandas.core.frame.DataFrame'>\n",
      "Int64Index: 3603 entries, 147 to 84892\n",
      "Data columns (total 11 columns):\n",
      "awayPlayers         3603 non-null object\n",
      "ball                3603 non-null object\n",
      "frameIdx            3603 non-null int64\n",
      "gameClock           3603 non-null float64\n",
      "gameClockStopped    3603 non-null bool\n",
      "homePlayers         3603 non-null object\n",
      "period              3603 non-null int64\n",
      "shotClock           3549 non-null float64\n",
      "wallClock           3603 non-null int64\n",
      "eventType           3603 non-null object\n",
      "playerId            3574 non-null object\n",
      "dtypes: bool(1), float64(2), int64(3), object(5)\n",
      "memory usage: 313.2+ KB\n"
     ]
    }
   ],
   "source": [
    "temp.info()"
   ]
  },
  {
   "cell_type": "code",
   "execution_count": 8,
   "metadata": {},
   "outputs": [],
   "source": [
    "from ss_preprocess import *"
   ]
  },
  {
   "cell_type": "code",
   "execution_count": 9,
   "metadata": {},
   "outputs": [],
   "source": [
    "change_coord_format(temp)\n",
    "label_possession(temp)\n",
    "label_possession_idx(temp)\n",
    "label_half_court(temp)\n",
    "convert_coordinates(temp)"
   ]
  },
  {
   "cell_type": "code",
   "execution_count": 10,
   "metadata": {},
   "outputs": [
    {
     "data": {
      "text/plain": [
       "(1847, 15)"
      ]
     },
     "execution_count": 10,
     "metadata": {},
     "output_type": "execute_result"
    }
   ],
   "source": [
    "temp.shape"
   ]
  },
  {
   "cell_type": "code",
   "execution_count": 11,
   "metadata": {},
   "outputs": [
    {
     "data": {
      "text/html": [
       "<div>\n",
       "<style scoped>\n",
       "    .dataframe tbody tr th:only-of-type {\n",
       "        vertical-align: middle;\n",
       "    }\n",
       "\n",
       "    .dataframe tbody tr th {\n",
       "        vertical-align: top;\n",
       "    }\n",
       "\n",
       "    .dataframe thead th {\n",
       "        text-align: right;\n",
       "    }\n",
       "</style>\n",
       "<table border=\"1\" class=\"dataframe\">\n",
       "  <thead>\n",
       "    <tr style=\"text-align: right;\">\n",
       "      <th></th>\n",
       "      <th>awayPlayers</th>\n",
       "      <th>ball</th>\n",
       "      <th>frameIdx</th>\n",
       "      <th>gameClock</th>\n",
       "      <th>gameClockStopped</th>\n",
       "      <th>homePlayers</th>\n",
       "      <th>period</th>\n",
       "      <th>shotClock</th>\n",
       "      <th>wallClock</th>\n",
       "      <th>eventType</th>\n",
       "      <th>playerId</th>\n",
       "      <th>poss_player</th>\n",
       "      <th>poss_team</th>\n",
       "      <th>poss_idx</th>\n",
       "      <th>half_court_idx</th>\n",
       "    </tr>\n",
       "  </thead>\n",
       "  <tbody>\n",
       "    <tr>\n",
       "      <th>289</th>\n",
       "      <td>{'ff41e9f0-89ef-11e6-87b7-a45e60e298d3': [[15....</td>\n",
       "      <td>[[0.8999999999999999, 468.0]]</td>\n",
       "      <td>289</td>\n",
       "      <td>713.42</td>\n",
       "      <td>False</td>\n",
       "      <td>{'ff427c2e-89ef-11e6-8d2a-a45e60e298d3': [[93....</td>\n",
       "      <td>1</td>\n",
       "      <td>18.65</td>\n",
       "      <td>1495240353096</td>\n",
       "      <td>DRIBBLE</td>\n",
       "      <td>ff413f45-89ef-11e6-94c9-a45e60e298d3</td>\n",
       "      <td>ff413f45-89ef-11e6-94c9-a45e60e298d3</td>\n",
       "      <td>0</td>\n",
       "      <td>1</td>\n",
       "      <td>0</td>\n",
       "    </tr>\n",
       "    <tr>\n",
       "      <th>315</th>\n",
       "      <td>{'ff41e9f0-89ef-11e6-87b7-a45e60e298d3': [[105...</td>\n",
       "      <td>[[74.6, 514.3]]</td>\n",
       "      <td>315</td>\n",
       "      <td>712.38</td>\n",
       "      <td>False</td>\n",
       "      <td>{'ff427c2e-89ef-11e6-8d2a-a45e60e298d3': [[97....</td>\n",
       "      <td>1</td>\n",
       "      <td>17.62</td>\n",
       "      <td>1495240354136</td>\n",
       "      <td>DRIBBLE</td>\n",
       "      <td>ff413f45-89ef-11e6-94c9-a45e60e298d3</td>\n",
       "      <td>ff413f45-89ef-11e6-94c9-a45e60e298d3</td>\n",
       "      <td>0</td>\n",
       "      <td>1</td>\n",
       "      <td>0</td>\n",
       "    </tr>\n",
       "    <tr>\n",
       "      <th>330</th>\n",
       "      <td>{'ff41e9f0-89ef-11e6-87b7-a45e60e298d3': [[129...</td>\n",
       "      <td>[[159.8, 551.1]]</td>\n",
       "      <td>330</td>\n",
       "      <td>711.77</td>\n",
       "      <td>False</td>\n",
       "      <td>{'ff427c2e-89ef-11e6-8d2a-a45e60e298d3': [[84....</td>\n",
       "      <td>1</td>\n",
       "      <td>17.03</td>\n",
       "      <td>1495240354736</td>\n",
       "      <td>DRIBBLE</td>\n",
       "      <td>ff413f45-89ef-11e6-94c9-a45e60e298d3</td>\n",
       "      <td>ff413f45-89ef-11e6-94c9-a45e60e298d3</td>\n",
       "      <td>0</td>\n",
       "      <td>1</td>\n",
       "      <td>0</td>\n",
       "    </tr>\n",
       "    <tr>\n",
       "      <th>344</th>\n",
       "      <td>{'ff41e9f0-89ef-11e6-87b7-a45e60e298d3': [[141...</td>\n",
       "      <td>[[192.8, 617.3]]</td>\n",
       "      <td>344</td>\n",
       "      <td>711.21</td>\n",
       "      <td>False</td>\n",
       "      <td>{'ff427c2e-89ef-11e6-8d2a-a45e60e298d3': [[52....</td>\n",
       "      <td>1</td>\n",
       "      <td>16.47</td>\n",
       "      <td>1495240355296</td>\n",
       "      <td>DRIBBLE</td>\n",
       "      <td>ff413f45-89ef-11e6-94c9-a45e60e298d3</td>\n",
       "      <td>ff413f45-89ef-11e6-94c9-a45e60e298d3</td>\n",
       "      <td>0</td>\n",
       "      <td>1</td>\n",
       "      <td>0</td>\n",
       "    </tr>\n",
       "    <tr>\n",
       "      <th>371</th>\n",
       "      <td>{'ff41e9f0-89ef-11e6-87b7-a45e60e298d3': [[151...</td>\n",
       "      <td>[[154.70000000000002, 687.8]]</td>\n",
       "      <td>371</td>\n",
       "      <td>710.13</td>\n",
       "      <td>False</td>\n",
       "      <td>{'ff427c2e-89ef-11e6-8d2a-a45e60e298d3': [[-10...</td>\n",
       "      <td>1</td>\n",
       "      <td>15.41</td>\n",
       "      <td>1495240356376</td>\n",
       "      <td>DRIBBLE</td>\n",
       "      <td>ff413f45-89ef-11e6-94c9-a45e60e298d3</td>\n",
       "      <td>ff413f45-89ef-11e6-94c9-a45e60e298d3</td>\n",
       "      <td>0</td>\n",
       "      <td>1</td>\n",
       "      <td>0</td>\n",
       "    </tr>\n",
       "  </tbody>\n",
       "</table>\n",
       "</div>"
      ],
      "text/plain": [
       "                                           awayPlayers  \\\n",
       "289  {'ff41e9f0-89ef-11e6-87b7-a45e60e298d3': [[15....   \n",
       "315  {'ff41e9f0-89ef-11e6-87b7-a45e60e298d3': [[105...   \n",
       "330  {'ff41e9f0-89ef-11e6-87b7-a45e60e298d3': [[129...   \n",
       "344  {'ff41e9f0-89ef-11e6-87b7-a45e60e298d3': [[141...   \n",
       "371  {'ff41e9f0-89ef-11e6-87b7-a45e60e298d3': [[151...   \n",
       "\n",
       "                              ball  frameIdx  gameClock  gameClockStopped  \\\n",
       "289  [[0.8999999999999999, 468.0]]       289     713.42             False   \n",
       "315                [[74.6, 514.3]]       315     712.38             False   \n",
       "330               [[159.8, 551.1]]       330     711.77             False   \n",
       "344               [[192.8, 617.3]]       344     711.21             False   \n",
       "371  [[154.70000000000002, 687.8]]       371     710.13             False   \n",
       "\n",
       "                                           homePlayers  period  shotClock  \\\n",
       "289  {'ff427c2e-89ef-11e6-8d2a-a45e60e298d3': [[93....       1      18.65   \n",
       "315  {'ff427c2e-89ef-11e6-8d2a-a45e60e298d3': [[97....       1      17.62   \n",
       "330  {'ff427c2e-89ef-11e6-8d2a-a45e60e298d3': [[84....       1      17.03   \n",
       "344  {'ff427c2e-89ef-11e6-8d2a-a45e60e298d3': [[52....       1      16.47   \n",
       "371  {'ff427c2e-89ef-11e6-8d2a-a45e60e298d3': [[-10...       1      15.41   \n",
       "\n",
       "         wallClock eventType                              playerId  \\\n",
       "289  1495240353096   DRIBBLE  ff413f45-89ef-11e6-94c9-a45e60e298d3   \n",
       "315  1495240354136   DRIBBLE  ff413f45-89ef-11e6-94c9-a45e60e298d3   \n",
       "330  1495240354736   DRIBBLE  ff413f45-89ef-11e6-94c9-a45e60e298d3   \n",
       "344  1495240355296   DRIBBLE  ff413f45-89ef-11e6-94c9-a45e60e298d3   \n",
       "371  1495240356376   DRIBBLE  ff413f45-89ef-11e6-94c9-a45e60e298d3   \n",
       "\n",
       "                              poss_player  poss_team  poss_idx  half_court_idx  \n",
       "289  ff413f45-89ef-11e6-94c9-a45e60e298d3          0         1               0  \n",
       "315  ff413f45-89ef-11e6-94c9-a45e60e298d3          0         1               0  \n",
       "330  ff413f45-89ef-11e6-94c9-a45e60e298d3          0         1               0  \n",
       "344  ff413f45-89ef-11e6-94c9-a45e60e298d3          0         1               0  \n",
       "371  ff413f45-89ef-11e6-94c9-a45e60e298d3          0         1               0  "
      ]
     },
     "execution_count": 11,
     "metadata": {},
     "output_type": "execute_result"
    }
   ],
   "source": [
    "temp.head()"
   ]
  },
  {
   "cell_type": "code",
   "execution_count": 12,
   "metadata": {},
   "outputs": [
    {
     "data": {
      "text/plain": [
       "{'ff41e9f0-89ef-11e6-87b7-a45e60e298d3': [array([ 15.4, 870. ])],\n",
       " 'ff403f7d-89ef-11e6-b44d-a45e60e298d3': [array([ 50.4, 753.2])],\n",
       " 'ff42aecf-89ef-11e6-8cb8-a45e60e298d3': [array([ 62.4, 656.9])],\n",
       " 'ff4221b5-89ef-11e6-b799-a45e60e298d3': [array([ -6.9, 557. ])],\n",
       " 'ff41f1fa-89ef-11e6-a048-a45e60e298d3': [array([ 91.5, 699.2])]}"
      ]
     },
     "execution_count": 12,
     "metadata": {},
     "output_type": "execute_result"
    }
   ],
   "source": [
    "temp.loc[289,'awayPlayers']"
   ]
  },
  {
   "cell_type": "code",
   "execution_count": null,
   "metadata": {},
   "outputs": [],
   "source": []
  }
 ],
 "metadata": {
  "kernelspec": {
   "display_name": "Python 3",
   "language": "python",
   "name": "python3"
  },
  "language_info": {
   "codemirror_mode": {
    "name": "ipython",
    "version": 3
   },
   "file_extension": ".py",
   "mimetype": "text/x-python",
   "name": "python",
   "nbconvert_exporter": "python",
   "pygments_lexer": "ipython3",
   "version": "3.7.3"
  }
 },
 "nbformat": 4,
 "nbformat_minor": 4
}
